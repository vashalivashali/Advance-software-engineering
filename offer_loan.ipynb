{
  "nbformat": 4,
  "nbformat_minor": 0,
  "metadata": {
    "colab": {
      "provenance": [],
      "authorship_tag": "ABX9TyPoD8aaTXH8yn81ubK9JQaR",
      "include_colab_link": true
    },
    "kernelspec": {
      "name": "python3",
      "display_name": "Python 3"
    },
    "language_info": {
      "name": "python"
    }
  },
  "cells": [
    {
      "cell_type": "markdown",
      "metadata": {
        "id": "view-in-github",
        "colab_type": "text"
      },
      "source": [
        "<a href=\"https://colab.research.google.com/github/vashalivashali/Advance-software-engineering/blob/main/offer_loan.ipynb\" target=\"_parent\"><img src=\"https://colab.research.google.com/assets/colab-badge.svg\" alt=\"Open In Colab\"/></a>"
      ]
    },
    {
      "cell_type": "code",
      "execution_count": 5,
      "metadata": {
        "colab": {
          "base_uri": "https://localhost:8080/"
        },
        "id": "sDTrUtwRC1a1",
        "outputId": "37e518dc-9798-44fb-8499-a9861cc14568"
      },
      "outputs": [
        {
          "output_type": "stream",
          "name": "stdout",
          "text": [
            "enter your age21\n",
            "Enter your income21000\n",
            "Enter 'y' if you have any loan y\n",
            "the loan can be offered:True\n"
          ]
        }
      ],
      "source": [
        "class loan:\n",
        "    def getloan(self,age,income,pastloan):\n",
        "      if pastloan =='y':\n",
        "        if age>=21 and income>=21000:\n",
        "          print(\"the loan can be offered:True\")\n",
        "        else:\n",
        "          print(\"the loan can be offered:False\")\n",
        "\n",
        "obj = loan()\n",
        "age=int(input(\"enter your age\"))\n",
        "income=int(input(\"Enter your income\"))\n",
        "pastloan=input(\"Enter 'y' if you have any loan \")\n",
        "obj.getloan(age,income,pastloan)"
      ]
    }
  ]
}
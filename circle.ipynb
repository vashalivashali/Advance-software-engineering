{
  "nbformat": 4,
  "nbformat_minor": 0,
  "metadata": {
    "colab": {
      "provenance": [],
      "toc_visible": true,
      "authorship_tag": "ABX9TyNeLzInDQ8emh6yLx7OXWoV",
      "include_colab_link": true
    },
    "kernelspec": {
      "name": "python3",
      "display_name": "Python 3"
    },
    "language_info": {
      "name": "python"
    }
  },
  "cells": [
    {
      "cell_type": "markdown",
      "metadata": {
        "id": "view-in-github",
        "colab_type": "text"
      },
      "source": [
        "<a href=\"https://colab.research.google.com/github/vashalivashali/Advance-software-engineering/blob/main/circle.ipynb\" target=\"_parent\"><img src=\"https://colab.research.google.com/assets/colab-badge.svg\" alt=\"Open In Colab\"/></a>"
      ]
    },
    {
      "cell_type": "code",
      "execution_count": 2,
      "metadata": {
        "colab": {
          "base_uri": "https://localhost:8080/"
        },
        "id": "kqIl4yspVGC2",
        "outputId": "924bb96b-085e-4e82-d322-37f390560929"
      },
      "outputs": [
        {
          "output_type": "stream",
          "name": "stdout",
          "text": [
            "enter value for radius2\n",
            "area of the circle 12.566370614359172\n",
            "circumference of the circle 12.566370614359172\n"
          ]
        }
      ],
      "source": [
        "from math import pi\n",
        "class circle:\n",
        "  def calculate(self,radius):\n",
        "    area=float(pi*radius**2)\n",
        "    cir=float(2*pi*radius)\n",
        "    print(\"area of the circle %s\" % area)\n",
        "    print(\"circumference of the circle %s\" %cir)\n",
        "\n",
        "  \n",
        "obj = circle()\n",
        "radius = float(input(\"enter value for radius\"))\n",
        "obj.calculate(radius)"
      ]
    },
    {
      "cell_type": "code",
      "source": [],
      "metadata": {
        "id": "YA0I4jz0Vfg7"
      },
      "execution_count": null,
      "outputs": []
    }
  ]
}